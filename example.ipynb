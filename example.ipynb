{
 "cells": [
  {
   "cell_type": "markdown",
   "source": [
    "# AWS CLI Mate example\n",
    "\n",
    "First, assuming that you have one default AWS CLI profile and three more profiles ``p1``, ``p2``, ``p3``, you want to use ``awscli_mate`` to manage your AWS CLI profiles."
   ],
   "metadata": {
    "collapsed": false
   }
  },
  {
   "cell_type": "code",
   "execution_count": 36,
   "outputs": [],
   "source": [
    "import os\n",
    "from pathlib import Path\n",
    "\n",
    "dir_here = Path(os.getcwd())\n",
    "path_config = dir_here / \"tests\" / \"home\" / \".aws\" / \"config\"\n",
    "path_credentials = dir_here / \"tests\" / \"home\" / \".aws\" / \"credentials\""
   ],
   "metadata": {
    "collapsed": false,
    "ExecuteTime": {
     "start_time": "2023-04-12T18:08:12.626869Z",
     "end_time": "2023-04-12T18:08:12.629470Z"
    }
   }
  },
  {
   "cell_type": "code",
   "execution_count": 37,
   "outputs": [
    {
     "name": "stdout",
     "output_type": "stream",
     "text": [
      "[default]\n",
      "region = us-west-1\n",
      "output = json\n",
      "\n",
      "#--- begin of organization ---\n",
      "#--- p1 ---\n",
      "[profile p1]\n",
      "# comment for p1\n",
      "region = us-east-1\n",
      "output = json\n",
      "#--- p1 ---\n",
      "#\n",
      "#--- p2 ---\n",
      "[profile p2]\n",
      "region = us-east-2\n",
      "output = json\n",
      "role_arn = arn:aws:iam::111122223333:role/fake-role-name\n",
      "source_profile = p1 # comment for p2\n",
      "#--- p2 ---\n",
      "#\n",
      "#--- p3 ---\n",
      "[profile p3]\n",
      "region = us-east-3\n",
      "output = json\n",
      "#--- p3 ---\n",
      "#--- end of organization ---\n",
      "\n"
     ]
    }
   ],
   "source": [
    "print(path_config.read_text())"
   ],
   "metadata": {
    "collapsed": false,
    "ExecuteTime": {
     "start_time": "2023-04-12T18:08:12.767346Z",
     "end_time": "2023-04-12T18:08:12.769235Z"
    }
   }
  },
  {
   "cell_type": "code",
   "execution_count": 38,
   "outputs": [
    {
     "name": "stdout",
     "output_type": "stream",
     "text": [
      "[default]\n",
      "aws_access_key_id = ZZZ\n",
      "aws_secret_access_key = ZZZ\n",
      "\n",
      "[p1]\n",
      "# comment for p1\n",
      "aws_access_key_id = AAA\n",
      "aws_secret_access_key = AAA\n",
      "\n",
      "[p2]\n",
      "\n",
      "[p3]\n",
      "aws_access_key_id = CCC\n",
      "aws_secret_access_key = CCC\n",
      "aws_session_token = CCC # comment for p3\n",
      "\n"
     ]
    }
   ],
   "source": [
    "print(path_credentials.read_text())"
   ],
   "metadata": {
    "collapsed": false,
    "ExecuteTime": {
     "start_time": "2023-04-12T18:08:12.921369Z",
     "end_time": "2023-04-12T18:08:12.925875Z"
    }
   }
  },
  {
   "cell_type": "markdown",
   "source": [
    "Now let's manipulate AWS CLI config and credentials files."
   ],
   "metadata": {
    "collapsed": false
   }
  },
  {
   "cell_type": "code",
   "execution_count": 39,
   "outputs": [],
   "source": [
    "from awscli_mate import AWSCliConfig\n",
    "\n",
    "awscli_config = AWSCliConfig(path_config=path_config, path_credentials=path_credentials)\n",
    "# AWSCliConfig() # do this if you want to use the ~/.aws/config and ~/.aws/credentials\n",
    "\n",
    "config, credentials = awscli_config.read_config()"
   ],
   "metadata": {
    "collapsed": false,
    "ExecuteTime": {
     "start_time": "2023-04-12T18:08:13.189137Z",
     "end_time": "2023-04-12T18:08:13.191993Z"
    }
   }
  },
  {
   "cell_type": "code",
   "execution_count": 40,
   "outputs": [
    {
     "name": "stdout",
     "output_type": "stream",
     "text": [
      "{\n",
      "    \"DEFAULT\": {},\n",
      "    \"default\": {\n",
      "        \"region\": \"us-west-1\",\n",
      "        \"output\": \"json\"\n",
      "    },\n",
      "    \"profile p1\": {\n",
      "        \"region\": \"us-east-1\",\n",
      "        \"output\": \"json\"\n",
      "    },\n",
      "    \"profile p2\": {\n",
      "        \"region\": \"us-east-2\",\n",
      "        \"output\": \"json\",\n",
      "        \"role_arn\": \"arn:aws:iam::111122223333:role/fake-role-name\",\n",
      "        \"source_profile\": \"p1 # comment for p2\"\n",
      "    },\n",
      "    \"profile p3\": {\n",
      "        \"region\": \"us-east-3\",\n",
      "        \"output\": \"json\"\n",
      "    }\n",
      "}\n"
     ]
    }
   ],
   "source": [
    "import json\n",
    "\n",
    "def jsonify_config(config):\n",
    "    data = dict()\n",
    "    for section_name, section_data in config.items():\n",
    "        data[section_name] = dict(section_data)\n",
    "    return json.dumps(data, indent=4)\n",
    "\n",
    "print(jsonify_config(config))"
   ],
   "metadata": {
    "collapsed": false,
    "ExecuteTime": {
     "start_time": "2023-04-12T18:08:13.345141Z",
     "end_time": "2023-04-12T18:08:13.348112Z"
    }
   }
  },
  {
   "cell_type": "code",
   "execution_count": 41,
   "outputs": [
    {
     "name": "stdout",
     "output_type": "stream",
     "text": [
      "{\n",
      "    \"DEFAULT\": {},\n",
      "    \"default\": {\n",
      "        \"region\": \"us-east-1\",\n",
      "        \"output\": \"json\"\n",
      "    },\n",
      "    \"profile p1\": {\n",
      "        \"region\": \"us-east-1\",\n",
      "        \"output\": \"json\"\n",
      "    },\n",
      "    \"profile p2\": {\n",
      "        \"region\": \"us-east-2\",\n",
      "        \"output\": \"json\",\n",
      "        \"role_arn\": \"arn:aws:iam::111122223333:role/fake-role-name\",\n",
      "        \"source_profile\": \"p1 # comment for p2\"\n",
      "    },\n",
      "    \"profile p3\": {\n",
      "        \"region\": \"us-east-3\",\n",
      "        \"output\": \"json\"\n",
      "    }\n",
      "}\n"
     ]
    }
   ],
   "source": [
    "awscli_config.replace_section_data(\n",
    "    config, from_section_name=\"profile p1\", to_section_name=\"default\"\n",
    ")\n",
    "print(jsonify_config(config))"
   ],
   "metadata": {
    "collapsed": false,
    "ExecuteTime": {
     "start_time": "2023-04-12T18:08:13.499450Z",
     "end_time": "2023-04-12T18:08:13.502003Z"
    }
   }
  },
  {
   "cell_type": "code",
   "execution_count": 42,
   "outputs": [
    {
     "name": "stdout",
     "output_type": "stream",
     "text": [
      "{\n",
      "    \"DEFAULT\": {},\n",
      "    \"default\": {\n",
      "        \"aws_access_key_id\": \"ZZZ\",\n",
      "        \"aws_secret_access_key\": \"ZZZ\"\n",
      "    },\n",
      "    \"p1\": {\n",
      "        \"aws_access_key_id\": \"AAA\",\n",
      "        \"aws_secret_access_key\": \"AAA\"\n",
      "    },\n",
      "    \"p2\": {},\n",
      "    \"p3\": {\n",
      "        \"aws_access_key_id\": \"CCC\",\n",
      "        \"aws_secret_access_key\": \"CCC\",\n",
      "        \"aws_session_token\": \"CCC # comment for p3\"\n",
      "    }\n",
      "}\n"
     ]
    }
   ],
   "source": [
    "print(jsonify_config(credentials))"
   ],
   "metadata": {
    "collapsed": false,
    "ExecuteTime": {
     "start_time": "2023-04-12T18:08:13.667732Z",
     "end_time": "2023-04-12T18:08:13.669646Z"
    }
   }
  },
  {
   "cell_type": "code",
   "execution_count": 43,
   "outputs": [
    {
     "name": "stdout",
     "output_type": "stream",
     "text": [
      "{\n",
      "    \"DEFAULT\": {},\n",
      "    \"default\": {\n",
      "        \"aws_access_key_id\": \"AAA\",\n",
      "        \"aws_secret_access_key\": \"AAA\"\n",
      "    },\n",
      "    \"p1\": {\n",
      "        \"aws_access_key_id\": \"AAA\",\n",
      "        \"aws_secret_access_key\": \"AAA\"\n",
      "    },\n",
      "    \"p2\": {},\n",
      "    \"p3\": {\n",
      "        \"aws_access_key_id\": \"CCC\",\n",
      "        \"aws_secret_access_key\": \"CCC\",\n",
      "        \"aws_session_token\": \"CCC # comment for p3\"\n",
      "    }\n",
      "}\n"
     ]
    }
   ],
   "source": [
    "awscli_config.replace_section_data(\n",
    "    credentials, from_section_name=\"p1\", to_section_name=\"default\"\n",
    ")\n",
    "print(jsonify_config(credentials))"
   ],
   "metadata": {
    "collapsed": false,
    "ExecuteTime": {
     "start_time": "2023-04-12T18:08:13.836319Z",
     "end_time": "2023-04-12T18:08:13.839138Z"
    }
   }
  },
  {
   "cell_type": "code",
   "execution_count": null,
   "outputs": [],
   "source": [],
   "metadata": {
    "collapsed": false
   }
  }
 ],
 "metadata": {
  "kernelspec": {
   "display_name": "Python 3",
   "language": "python",
   "name": "python3"
  },
  "language_info": {
   "codemirror_mode": {
    "name": "ipython",
    "version": 2
   },
   "file_extension": ".py",
   "mimetype": "text/x-python",
   "name": "python",
   "nbconvert_exporter": "python",
   "pygments_lexer": "ipython2",
   "version": "2.7.6"
  }
 },
 "nbformat": 4,
 "nbformat_minor": 0
}
